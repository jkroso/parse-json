{
 "metadata": {
  "language": "Julia",
  "name": "",
  "signature": "sha256:78a69763ca62e1b8972b9e4496716d2ba75a62a5198603b78fbaed1dff7ec8ae"
 },
 "nbformat": 3,
 "nbformat_minor": 0,
 "worksheets": [
  {
   "cells": [
    {
     "cell_type": "markdown",
     "metadata": {},
     "source": [
      "# parse-json\n",
      "\n",
      "A streaming JSON parser for Julia\n",
      "\n",
      "## Installation\n",
      "\n",
      "With [packin](//github.com/jkroso/packin): `packin add jkroso/parse-json`"
     ]
    },
    {
     "cell_type": "code",
     "collapsed": false,
     "input": [
      "@require \"parse-json\" parse;"
     ],
     "language": "python",
     "metadata": {},
     "outputs": [],
     "prompt_number": 1
    },
    {
     "cell_type": "markdown",
     "metadata": {},
     "source": [
      "## API\n",
      "\n",
      "### `parse(json::String)`\n",
      "\n",
      "Will parse the JSON string into a richer representation using native Julia data structures"
     ]
    },
    {
     "cell_type": "code",
     "collapsed": false,
     "input": [
      "parse(\"\"\"{\"a\":1,\"b\":2.1,\"c\":[true,false,null,[],{}],\"d\":\"string\"}\"\"\")"
     ],
     "language": "python",
     "metadata": {},
     "outputs": [
      {
       "metadata": {},
       "output_type": "pyout",
       "prompt_number": 2,
       "text": [
        "Dict{String,Any} with 4 entries:\n",
        "  \"c\" => {true,false,nothing,{},Dict{String,Any}()}\n",
        "  \"b\" => 2.1\n",
        "  \"a\" => 1\n",
        "  \"d\" => \"string\""
       ]
      }
     ],
     "prompt_number": 2
    },
    {
     "cell_type": "markdown",
     "metadata": {},
     "source": [
      "### `parse(json::IO)`\n",
      "\n",
      "As above but operates on any instance of `IO` which implements the streaming interface"
     ]
    },
    {
     "cell_type": "code",
     "collapsed": false,
     "input": [
      "open(parse, \"dependencies.json\")"
     ],
     "language": "python",
     "metadata": {},
     "outputs": [
      {
       "metadata": {},
       "output_type": "pyout",
       "prompt_number": 3,
       "text": [
        "Dict{String,Any} with 1 entry:\n",
        "  \"development\" => [\"mime-db\"=>\"http://registry.npmjs.org/mime-db/-/mime-db-1.1\u2026"
       ]
      }
     ],
     "prompt_number": 3
    }
   ],
   "metadata": {}
  }
 ]
}