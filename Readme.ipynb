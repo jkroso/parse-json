{
 "cells": [
  {
   "cell_type": "markdown",
   "metadata": {},
   "source": [
    "# parse-json\n",
    "\n",
    "A streaming JSON parser for Julia"
   ]
  },
  {
   "cell_type": "code",
   "execution_count": 1,
   "metadata": {
    "collapsed": false
   },
   "outputs": [],
   "source": [
    "@require \"github.com/jkroso/parse-json\" parse;"
   ]
  },
  {
   "cell_type": "markdown",
   "metadata": {},
   "source": [
    "## API\n",
    "\n",
    "### `parse(json::String)`\n",
    "\n",
    "Will parse the JSON string into a richer representation using native Julia data structures"
   ]
  },
  {
   "cell_type": "code",
   "execution_count": 2,
   "metadata": {
    "collapsed": false
   },
   "outputs": [
    {
     "data": {
      "text/plain": [
       "Dict{AbstractString,Any} with 4 entries:\n",
       "  \"c\" => Any[true,false,nothing,Any[],Dict{AbstractString,Any}()]\n",
       "  \"b\" => 2.1f0\n",
       "  \"a\" => 1\n",
       "  \"d\" => \"string\""
      ]
     },
     "execution_count": 2,
     "metadata": {},
     "output_type": "execute_result"
    }
   ],
   "source": [
    "parse(\"\"\"{\"a\":1,\"b\":2.1,\"c\":[true,false,null,[],{}],\"d\":\"string\"}\"\"\")"
   ]
  },
  {
   "cell_type": "markdown",
   "metadata": {},
   "source": [
    "### `parse(json::IO)`\n",
    "\n",
    "As above but operates on any instance of `IO` which implements the streaming interface"
   ]
  },
  {
   "cell_type": "code",
   "execution_count": 3,
   "metadata": {
    "collapsed": false
   },
   "outputs": [
    {
     "data": {
      "text/plain": [
       "Dict{AbstractString,Any} with 4 entries:\n",
       "  \"cells\"          => Any[Dict{AbstractString,Any}(\"cell_type\"=>\"markdown\",\"sou…\n",
       "  \"nbformat_minor\" => 0\n",
       "  \"metadata\"       => Dict{AbstractString,Any}(\"language_info\"=>Dict{AbstractSt…\n",
       "  \"nbformat\"       => 4"
      ]
     },
     "execution_count": 3,
     "metadata": {},
     "output_type": "execute_result"
    }
   ],
   "source": [
    "open(parse, \"Readme.ipynb\")"
   ]
  },
  {
   "cell_type": "markdown",
   "metadata": {},
   "source": [
    "## Benchmarks"
   ]
  },
  {
   "cell_type": "code",
   "execution_count": 6,
   "metadata": {
    "collapsed": false
   },
   "outputs": [
    {
     "data": {
      "text/html": [
       "<table class=\"data-frame\"><tr><th></th><th>Function</th><th>Average</th><th>Relative</th><th>Replications</th></tr><tr><th>1</th><td>jkroso</td><td>0.000459648675</td><td>1.0</td><td>200</td></tr><tr><th>2</th><td>julia</td><td>0.000561727845</td><td>1.2220808533822054</td><td>200</td></tr></table>"
      ],
      "text/plain": [
       "2x4 DataFrames.DataFrame\n",
       "| Row | Function | Average     | Relative | Replications |\n",
       "|-----|----------|-------------|----------|--------------|\n",
       "| 1   | \"jkroso\" | 0.000459649 | 1.0      | 200          |\n",
       "| 2   | \"julia\"  | 0.000561728 | 1.22208  | 200          |"
      ]
     },
     "execution_count": 6,
     "metadata": {},
     "output_type": "execute_result"
    }
   ],
   "source": [
    "@require \"github.com/johnmyleswhite/Benchmark.jl\" compare\n",
    "@require \"github.com/JuliaLang/JSON.jl\" parse => A\n",
    "@require \".\" parse => B\n",
    "\n",
    "src = readall(\"Readme.ipynb\")\n",
    "\n",
    "compare([\n",
    "  jkroso() = B(src),\n",
    "  julia()  = A(src)\n",
    "], 200)"
   ]
  }
 ],
 "metadata": {
  "kernelspec": {
   "display_name": "Julia 0.4.2",
   "language": "julia",
   "name": "julia-0.4"
  },
  "language_info": {
   "file_extension": ".jl",
   "mimetype": "application/julia",
   "name": "julia",
   "version": "0.4.2"
  }
 },
 "nbformat": 4,
 "nbformat_minor": 0
}
